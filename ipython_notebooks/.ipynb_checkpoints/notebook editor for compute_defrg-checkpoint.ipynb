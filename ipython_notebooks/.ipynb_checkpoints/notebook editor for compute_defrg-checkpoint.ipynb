{
 "cells": [
  {
   "cell_type": "code",
   "execution_count": 1,
   "metadata": {},
   "outputs": [],
   "source": [
    "# -*- coding: utf-8 -*-\n",
    "import dataiku\n",
    "import pandas as pd, numpy as np\n",
    "from dataiku import pandasutils as pdu\n",
    "\n",
    "# Read recipe inputs\n",
    "resnet_model = dataiku.Folder(\"kPorwzTf\")\n",
    "resnet_model_info = resnet_model.get_info()\n",
    "\n",
    "\n"
   ]
  },
  {
   "cell_type": "code",
   "execution_count": 2,
   "metadata": {},
   "outputs": [
    {
     "data": {
      "text/plain": [
       "{u'accessInfo': {u'root': u'/data/dss-home/dss_design_8/managed_folders/PLUGINTESTDEEPLEARNINGIMAGE/kPorwzTf'},\n",
       " u'directoryBasedPartitioning': False,\n",
       " u'id': u'kPorwzTf',\n",
       " u'name': u'resnet_model',\n",
       " u'path': u'/data/dss-home/dss_design_8/managed_folders/PLUGINTESTDEEPLEARNINGIMAGE/kPorwzTf',\n",
       " u'projectKey': u'PLUGINTESTDEEPLEARNINGIMAGE',\n",
       " u'type': u'Filesystem'}"
      ]
     },
     "execution_count": 2,
     "metadata": {},
     "output_type": "execute_result"
    }
   ],
   "source": [
    "resnet_model_info"
   ]
  },
  {
   "cell_type": "code",
   "execution_count": 4,
   "metadata": {},
   "outputs": [
    {
     "data": {
      "text/plain": [
       "[u'/config.json',\n",
       " u'/model_weights.h5',\n",
       " u'/model_weights_notop.h5',\n",
       " u'/model_labels.csv',\n",
       " u'/model_info.json']"
      ]
     },
     "execution_count": 4,
     "metadata": {},
     "output_type": "execute_result"
    }
   ],
   "source": [
    "resnet_model.list_paths_in_partition()"
   ]
  },
  {
   "cell_type": "code",
   "execution_count": null,
   "metadata": {},
   "outputs": [],
   "source": []
  }
 ],
 "metadata": {
  "associatedRecipe": "compute_defrg",
  "creator": "admin",
  "customFields": {},
  "kernelspec": {
   "display_name": "Python 2",
   "language": "python",
   "name": "python2"
  },
  "language_info": {
   "codemirror_mode": {
    "name": "ipython",
    "version": 2
   },
   "file_extension": ".py",
   "mimetype": "text/x-python",
   "name": "python",
   "nbconvert_exporter": "python",
   "pygments_lexer": "ipython2",
   "version": "2.7.5"
  },
  "tags": [
   "recipe-editor"
  ]
 },
 "nbformat": 4,
 "nbformat_minor": 1
}
