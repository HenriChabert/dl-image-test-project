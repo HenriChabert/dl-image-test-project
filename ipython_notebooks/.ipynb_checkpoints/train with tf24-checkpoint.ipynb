{
 "cells": [
  {
   "cell_type": "code",
   "execution_count": 1,
   "metadata": {},
   "outputs": [
    {
     "ename": "ModuleNotFoundError",
     "evalue": "No module named 'dku_deep_helpers'",
     "output_type": "error",
     "traceback": [
      "\u001b[0;31m---------------------------------------------------------------------------\u001b[0m",
      "\u001b[0;31mModuleNotFoundError\u001b[0m                       Traceback (most recent call last)",
      "\u001b[0;32m<ipython-input-1-8289bf6ba612>\u001b[0m in \u001b[0;36m<module>\u001b[0;34m\u001b[0m\n\u001b[1;32m      1\u001b[0m \u001b[0;32mimport\u001b[0m \u001b[0mdataiku\u001b[0m\u001b[0;34m\u001b[0m\u001b[0;34m\u001b[0m\u001b[0m\n\u001b[0;32m----> 2\u001b[0;31m \u001b[0;32mfrom\u001b[0m \u001b[0mdku_deep_helpers\u001b[0m \u001b[0;32mimport\u001b[0m \u001b[0mmodel_helpers\u001b[0m\u001b[0;34m\u001b[0m\u001b[0;34m\u001b[0m\u001b[0m\n\u001b[0m\u001b[1;32m      3\u001b[0m \u001b[0;32mfrom\u001b[0m \u001b[0mdku_deep_helpers\u001b[0m \u001b[0;32mimport\u001b[0m \u001b[0mimage_helpers\u001b[0m\u001b[0;34m\u001b[0m\u001b[0;34m\u001b[0m\u001b[0m\n\u001b[1;32m      4\u001b[0m \u001b[0;32mfrom\u001b[0m \u001b[0mdku_deep_helpers\u001b[0m \u001b[0;32mimport\u001b[0m \u001b[0mdataset_helpers\u001b[0m\u001b[0;34m\u001b[0m\u001b[0;34m\u001b[0m\u001b[0m\n\u001b[1;32m      5\u001b[0m \u001b[0;32mimport\u001b[0m \u001b[0mtensorflow\u001b[0m \u001b[0;32mas\u001b[0m \u001b[0mtf\u001b[0m\u001b[0;34m\u001b[0m\u001b[0;34m\u001b[0m\u001b[0m\n",
      "\u001b[0;31mModuleNotFoundError\u001b[0m: No module named 'dku_deep_helpers'"
     ]
    }
   ],
   "source": [
    "import dataiku\n",
    "from dku_deep_helpers import model_helpers\n",
    "from dku_deep_helpers import image_helpers\n",
    "from dku_deep_helpers import dataset_helpers\n",
    "import tensorflow as tf\n",
    "import tarfile\n",
    "import datetime\n",
    "import time"
   ]
  },
  {
   "cell_type": "markdown",
   "metadata": {},
   "source": [
    "### Parameters"
   ]
  },
  {
   "cell_type": "code",
   "execution_count": 2,
   "metadata": {},
   "outputs": [],
   "source": [
    "epochs = 5\n",
    "batch_size = 50\n",
    "data_size = 500\n",
    "image_size = (197, 197)"
   ]
  },
  {
   "cell_type": "markdown",
   "metadata": {},
   "source": [
    "### Build model"
   ]
  },
  {
   "cell_type": "code",
   "execution_count": 3,
   "metadata": {},
   "outputs": [],
   "source": [
    "model = model_helpers.build_vgg16_model(2, container_exec=True)\n",
    "model = model_helpers.compile_model(model)"
   ]
  },
  {
   "cell_type": "markdown",
   "metadata": {},
   "source": [
    "### Load dataset"
   ]
  },
  {
   "cell_type": "code",
   "execution_count": 4,
   "metadata": {},
   "outputs": [],
   "source": [
    "mf = dataiku.Folder(\"cats_and_dogs\")\n",
    "train_dataset = dataiku.Dataset(\"train\")\n",
    "train_df = train_dataset.get_dataframe().head(data_size)\n",
    "test_dataset = dataiku.Dataset(\"test\")\n",
    "test_df = test_dataset.get_dataframe()"
   ]
  },
  {
   "cell_type": "code",
   "execution_count": 5,
   "metadata": {},
   "outputs": [],
   "source": [
    "train_X_tfds = tf.data.Dataset.from_tensor_slices(train_df[\"path\"].values.reshape(-1, 1))\n",
    "train_X_tfds = train_X_tfds.map(lambda x: image_helpers.dku_simple_path_to_image(mf, x, image_size),\n",
    "                                num_parallel_calls=tf.data.AUTOTUNE)"
   ]
  },
  {
   "cell_type": "code",
   "execution_count": 6,
   "metadata": {},
   "outputs": [],
   "source": [
    "train_y = dataset_helpers.convert_target_to_np_array(train_df[\"label\"].values)\n",
    "train_y_array = train_y[\"remapped\"]\n",
    "train_y_tfds = tf.data.Dataset.from_tensor_slices(train_y_array)"
   ]
  },
  {
   "cell_type": "code",
   "execution_count": 7,
   "metadata": {},
   "outputs": [],
   "source": [
    "train_tfds = tf.data.Dataset.zip((train_X_tfds, train_y_tfds)).batch(batch_size, drop_remainder=True).cache().prefetch(tf.data.AUTOTUNE)"
   ]
  },
  {
   "cell_type": "markdown",
   "metadata": {},
   "source": [
    "### Callbacks"
   ]
  },
  {
   "cell_type": "code",
   "execution_count": 8,
   "metadata": {},
   "outputs": [],
   "source": [
    "tb_logs_names = \"tb_logs_%s\" % datetime.datetime.now().strftime(\"%Y%m%d-%H%M\")\n",
    "tbCallback = tf.keras.callbacks.TensorBoard(\n",
    "    log_dir=tb_logs_names, histogram_freq=1, write_graph=True,\n",
    "    write_images=False, update_freq='epoch', profile_batch=(5, 10),\n",
    "    embeddings_freq=0, embeddings_metadata=None)"
   ]
  },
  {
   "cell_type": "code",
   "execution_count": 9,
   "metadata": {},
   "outputs": [],
   "source": [
    "callbacks = [tbCallback]"
   ]
  },
  {
   "cell_type": "markdown",
   "metadata": {},
   "source": [
    "### Train model"
   ]
  },
  {
   "cell_type": "code",
   "execution_count": 10,
   "metadata": {},
   "outputs": [
    {
     "name": "stdout",
     "output_type": "stream",
     "text": [
      "Epoch 1/5\n",
      "3/5 [=================>............] - ETA: 2s - loss: 17.3734"
     ]
    },
    {
     "name": "stderr",
     "output_type": "stream",
     "text": [
      "/opt/dataiku/code-env/lib64/python3.6/site-packages/PIL/TiffImagePlugin.py:739: UserWarning: Possibly corrupt EXIF data.  Expecting to read 80000 bytes but only got 0. Skipping tag 64640\n",
      "  \" Skipping tag %s\" % (size, len(data), tag))\n",
      "/opt/dataiku/code-env/lib64/python3.6/site-packages/PIL/TiffImagePlugin.py:739: UserWarning: Possibly corrupt EXIF data.  Expecting to read 65536 bytes but only got 0. Skipping tag 3\n",
      "  \" Skipping tag %s\" % (size, len(data), tag))\n",
      "/opt/dataiku/code-env/lib64/python3.6/site-packages/PIL/TiffImagePlugin.py:739: UserWarning: Possibly corrupt EXIF data.  Expecting to read 404094976 bytes but only got 0. Skipping tag 5\n",
      "  \" Skipping tag %s\" % (size, len(data), tag))\n",
      "/opt/dataiku/code-env/lib64/python3.6/site-packages/PIL/TiffImagePlugin.py:739: UserWarning: Possibly corrupt EXIF data.  Expecting to read 404619264 bytes but only got 0. Skipping tag 5\n",
      "  \" Skipping tag %s\" % (size, len(data), tag))\n",
      "/opt/dataiku/code-env/lib64/python3.6/site-packages/PIL/TiffImagePlugin.py:739: UserWarning: Possibly corrupt EXIF data.  Expecting to read 131072 bytes but only got 0. Skipping tag 3\n",
      "  \" Skipping tag %s\" % (size, len(data), tag))\n",
      "/opt/dataiku/code-env/lib64/python3.6/site-packages/PIL/TiffImagePlugin.py:739: UserWarning: Possibly corrupt EXIF data.  Expecting to read 425459712 bytes but only got 0. Skipping tag 4\n",
      "  \" Skipping tag %s\" % (size, len(data), tag))\n",
      "/opt/dataiku/code-env/lib64/python3.6/site-packages/PIL/TiffImagePlugin.py:739: UserWarning: Possibly corrupt EXIF data.  Expecting to read 1385474 bytes but only got 6833. Skipping tag 513\n",
      "  \" Skipping tag %s\" % (size, len(data), tag))\n",
      "/opt/dataiku/code-env/lib64/python3.6/site-packages/PIL/TiffImagePlugin.py:739: UserWarning: Possibly corrupt EXIF data.  Expecting to read 3846701056 bytes but only got 0. Skipping tag 2\n",
      "  \" Skipping tag %s\" % (size, len(data), tag))\n",
      "/opt/dataiku/code-env/lib64/python3.6/site-packages/PIL/TiffImagePlugin.py:739: UserWarning: Possibly corrupt EXIF data.  Expecting to read 3300917248 bytes but only got 0. Skipping tag 7\n",
      "  \" Skipping tag %s\" % (size, len(data), tag))\n",
      "/opt/dataiku/code-env/lib64/python3.6/site-packages/PIL/TiffImagePlugin.py:739: UserWarning: Possibly corrupt EXIF data.  Expecting to read 196867 bytes but only got 6833. Skipping tag 0\n",
      "  \" Skipping tag %s\" % (size, len(data), tag))\n",
      "/opt/dataiku/code-env/lib64/python3.6/site-packages/PIL/TiffImagePlugin.py:756: UserWarning: Corrupt EXIF data.  Expecting to read 12 bytes but only got 8. \n",
      "  warnings.warn(str(msg))\n"
     ]
    },
    {
     "name": "stdout",
     "output_type": "stream",
     "text": [
      "5/5 [==============================] - 53s 1s/step - loss: 23.3629\n",
      "Epoch 2/5\n",
      "5/5 [==============================] - 6s 1s/step - loss: 1.9950\n",
      "Epoch 3/5\n",
      "5/5 [==============================] - 5s 1s/step - loss: 0.5599\n",
      "Epoch 4/5\n",
      "5/5 [==============================] - 5s 1s/step - loss: 0.6484\n",
      "Epoch 5/5\n",
      "5/5 [==============================] - 5s 1s/step - loss: 0.5152\n"
     ]
    }
   ],
   "source": [
    "history = model.fit(train_tfds,\n",
    "                    epochs=epochs, callbacks=callbacks)"
   ]
  },
  {
   "cell_type": "code",
   "execution_count": 0,
   "metadata": {},
   "outputs": [],
   "source": []
  }
 ],
 "metadata": {
  "createdOn": 1611141596638,
  "creator": "admin",
  "customFields": {},
  "kernelspec": {
   "display_name": "Python (env deeplearning-image-for-ntb)",
   "language": "python",
   "name": "py-dku-venv-deeplearning-image-for-ntb"
  },
  "language_info": {
   "codemirror_mode": {
    "name": "ipython",
    "version": 3
   },
   "file_extension": ".py",
   "mimetype": "text/x-python",
   "name": "python",
   "nbconvert_exporter": "python",
   "pygments_lexer": "ipython3",
   "version": "3.6.9"
  },
  "modifiedBy": "admin",
  "tags": []
 },
 "nbformat": 4,
 "nbformat_minor": 1
}
