{
 "cells": [
  {
   "cell_type": "code",
   "execution_count": 1,
   "metadata": {},
   "outputs": [],
   "source": [
    "# -*- coding: utf-8 -*-\n",
    "import dataiku\n",
    "import pandas as pd, numpy as np\n",
    "from dataiku import pandasutils as pdu\n",
    "\n",
    "# Read recipe inputs\n",
    "images_for_retraining = dataiku.Folder(\"3ep5yCky\")\n",
    "images_for_retraining_info = images_for_retraining.get_info()\n"
   ]
  },
  {
   "cell_type": "code",
   "execution_count": 2,
   "metadata": {},
   "outputs": [],
   "source": [
    "ordered_partitions = list(sorted(images_for_retraining.list_paths_in_partition()))"
   ]
  },
  {
   "cell_type": "code",
   "execution_count": 3,
   "metadata": {},
   "outputs": [
    {
     "data": {
      "text/plain": [
       "[u'/101_tiger.jpg',\n",
       " u'/102_lion.jpg',\n",
       " u'/103_lion.jpeg',\n",
       " u'/104_lion.jpg',\n",
       " u'/105_lion.jpg',\n",
       " u'/106_lion.jpg',\n",
       " u'/107_lion.jpg',\n",
       " u'/108_lion.jpg',\n",
       " u'/40_tiger.jpg',\n",
       " u'/41_tiger.jpeg',\n",
       " u'/42_tiger.jpeg',\n",
       " u'/43_lion.jpg',\n",
       " u'/43_tiger.jpg',\n",
       " u'/45_lion.jpg',\n",
       " u'/45_tiger.jpg',\n",
       " u'/46_tiger.jpg',\n",
       " u'/48_tiger.jpg',\n",
       " u'/50_lion.jpg',\n",
       " u'/50_tiger.jpg',\n",
       " u'/51_lion.jpg',\n",
       " u'/51_tiger.jpeg',\n",
       " u'/52_lion.jpg',\n",
       " u'/52_tiger.jpg',\n",
       " u'/53_lion.jpg',\n",
       " u'/53_tiger.jpg',\n",
       " u'/54_lion.jpg',\n",
       " u'/55_lion.jpg',\n",
       " u'/55_tiger.jpg',\n",
       " u'/56_lion.jpg',\n",
       " u'/56_tiger.jpg',\n",
       " u'/57_tiger.jpeg',\n",
       " u'/58_lion.jpg',\n",
       " u'/58_tiger.jpg',\n",
       " u'/59_lion.jpeg',\n",
       " u'/59_tiger.jpg',\n",
       " u'/60_lion.jpg',\n",
       " u'/60_tiger.jpeg',\n",
       " u'/61_lion.jpg',\n",
       " u'/61_tiger.jpg',\n",
       " u'/62_lion.jpg',\n",
       " u'/63_lion.jpg',\n",
       " u'/63_tiger.jpg',\n",
       " u'/64_lion.jpg',\n",
       " u'/64_tiger.jpg',\n",
       " u'/65_lion.jpg',\n",
       " u'/65_tiger.jpg',\n",
       " u'/66_lion.jpeg',\n",
       " u'/67_lion.jpg',\n",
       " u'/67_tiger.jpg',\n",
       " u'/68_lion.jpg',\n",
       " u'/68_tiger.jpg',\n",
       " u'/69_lion.jpg',\n",
       " u'/70_lion.jpg',\n",
       " u'/70_tiger.jpg',\n",
       " u'/71_lion.jpg',\n",
       " u'/72_lion.jpeg',\n",
       " u'/73_lion.jpg',\n",
       " u'/76_lion.jpg',\n",
       " u'/77_lion.jpg',\n",
       " u'/78_lion.jpg',\n",
       " u'/79_lion.jpg',\n",
       " u'/80_lion.jpeg',\n",
       " u'/81_lion.jpg',\n",
       " u'/82_lion.jpg',\n",
       " u'/83_lion.jpg']"
      ]
     },
     "execution_count": 3,
     "metadata": {},
     "output_type": "execute_result"
    }
   ],
   "source": [
    "ordered_partitions"
   ]
  },
  {
   "cell_type": "code",
   "execution_count": null,
   "metadata": {},
   "outputs": [],
   "source": []
  },
  {
   "cell_type": "code",
   "execution_count": null,
   "metadata": {},
   "outputs": [],
   "source": []
  },
  {
   "cell_type": "code",
   "execution_count": null,
   "metadata": {},
   "outputs": [],
   "source": []
  },
  {
   "cell_type": "code",
   "execution_count": null,
   "metadata": {},
   "outputs": [],
   "source": [
    "\n",
    "# Write recipe outputs\n",
    "imges_for_retrained_ordered = dataiku.Folder(\"SGDckY9j\")\n",
    "imges_for_retrained_ordered_info = imges_for_retrained_ordered.get_info() "
   ]
  }
 ],
 "metadata": {
  "associatedRecipe": "compute_SGDckY9j",
  "creator": "admin",
  "customFields": {},
  "kernelspec": {
   "display_name": "Python 2",
   "language": "python",
   "name": "python2"
  },
  "language_info": {
   "codemirror_mode": {
    "name": "ipython",
    "version": 2
   },
   "file_extension": ".py",
   "mimetype": "text/x-python",
   "name": "python",
   "nbconvert_exporter": "python",
   "pygments_lexer": "ipython2",
   "version": "2.7.5"
  },
  "tags": [
   "recipe-editor"
  ]
 },
 "nbformat": 4,
 "nbformat_minor": 1
}
