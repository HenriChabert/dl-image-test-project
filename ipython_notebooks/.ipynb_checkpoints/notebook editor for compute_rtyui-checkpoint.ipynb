{
 "cells": [
  {
   "cell_type": "code",
   "execution_count": 3,
   "metadata": {},
   "outputs": [],
   "source": [
    "# -*- coding: utf-8 -*-\n",
    "import dataiku\n",
    "import pandas as pd, numpy as np\n",
    "from dataiku import pandasutils as pdu\n",
    "\n",
    "# Read recipe inputs\n",
    "classified_with_aws_images = dataiku.Dataset(\"classified_with_aws_images\")\n",
    "classified_images_df = classified_with_aws_images.get_dataframe()"
   ]
  },
  {
   "cell_type": "code",
   "execution_count": 2,
   "metadata": {},
   "outputs": [],
   "source": [
    "import re\n",
    "import json\n",
    "import numpy as np\n",
    "\n",
    "def process(dataset, partition_id):\n",
    "    classified_images_df = dataset.get_dataframe()\n",
    "    classif = [re.split(\"\\.|_\", v)[-2] for v in classified_images_df['images'].values]\n",
    "    serialized_pred = [json.loads(v) for v in classified_images_df['prediction'].values]\n",
    "    pred = [max(v, key=lambda x: v[x]) for v in serialized_pred if v]\n",
    "    accuracy = np.mean([pred[i] == classif[i] for i in range(len(pred))])\n",
    "    return {\"accuracy\": accuracy}"
   ]
  },
  {
   "cell_type": "code",
   "execution_count": 4,
   "metadata": {},
   "outputs": [],
   "source": [
    "classif = [re.split(\"\\.|_\", v)[-2] for v in classified_images_df['images'].values]"
   ]
  },
  {
   "cell_type": "code",
   "execution_count": 5,
   "metadata": {},
   "outputs": [],
   "source": [
    "serialized_pred = [json.loads(v) for v in classified_images_df['prediction'].values]"
   ]
  },
  {
   "cell_type": "code",
   "execution_count": 6,
   "metadata": {},
   "outputs": [
    {
     "data": {
      "text/plain": [
       "['lion',\n",
       " 'tiger',\n",
       " 'lion',\n",
       " 'tiger',\n",
       " 'lion',\n",
       " 'tiger',\n",
       " 'lion',\n",
       " 'tiger',\n",
       " 'lion',\n",
       " 'lion',\n",
       " 'tiger',\n",
       " 'lion',\n",
       " 'lion',\n",
       " 'tiger',\n",
       " 'lion',\n",
       " 'lion',\n",
       " 'tiger',\n",
       " 'lion',\n",
       " 'tiger',\n",
       " 'lion',\n",
       " 'tiger',\n",
       " 'lion',\n",
       " 'lion',\n",
       " 'tiger',\n",
       " 'lion',\n",
       " 'tiger',\n",
       " 'tiger',\n",
       " 'lion',\n",
       " 'tiger',\n",
       " 'lion',\n",
       " 'tiger',\n",
       " 'tiger',\n",
       " 'lion',\n",
       " 'tiger',\n",
       " 'lion',\n",
       " 'tiger',\n",
       " 'lion',\n",
       " 'tiger',\n",
       " 'lion',\n",
       " 'tiger',\n",
       " 'lion',\n",
       " 'tiger',\n",
       " 'lion',\n",
       " 'lion',\n",
       " 'lion',\n",
       " 'tiger',\n",
       " 'lion',\n",
       " 'tiger',\n",
       " 'lion',\n",
       " 'lion',\n",
       " 'lion',\n",
       " 'lion',\n",
       " 'lion',\n",
       " 'lion',\n",
       " 'lion',\n",
       " 'tiger',\n",
       " 'tiger',\n",
       " 'lion',\n",
       " 'tiger',\n",
       " 'tiger',\n",
       " 'lion',\n",
       " 'tiger',\n",
       " 'lion',\n",
       " 'tiger']"
      ]
     },
     "execution_count": 6,
     "metadata": {},
     "output_type": "execute_result"
    }
   ],
   "source": [
    "classif"
   ]
  },
  {
   "cell_type": "code",
   "execution_count": null,
   "metadata": {},
   "outputs": [],
   "source": []
  },
  {
   "cell_type": "code",
   "execution_count": 8,
   "metadata": {},
   "outputs": [],
   "source": [
    "pred = [max(v, key=lambda x: v[x]) for v in serialized_pred if v]"
   ]
  },
  {
   "cell_type": "code",
   "execution_count": 9,
   "metadata": {},
   "outputs": [
    {
     "data": {
      "text/plain": [
       "[u'lion',\n",
       " u'tiger',\n",
       " u'lion',\n",
       " u'tiger',\n",
       " u'lion',\n",
       " u'tiger',\n",
       " u'lion',\n",
       " u'lion',\n",
       " u'lion',\n",
       " u'lion',\n",
       " u'tiger',\n",
       " u'wallaby',\n",
       " u'lion',\n",
       " u'tiger',\n",
       " u'brown_bear',\n",
       " u'lion',\n",
       " u'tiger',\n",
       " u'lion',\n",
       " u'tiger',\n",
       " u'lion',\n",
       " u'tiger',\n",
       " u'lion',\n",
       " u'tiger',\n",
       " u'lion',\n",
       " u'tiger',\n",
       " u'tiger',\n",
       " u'lion',\n",
       " u'tiger',\n",
       " u'lion',\n",
       " u'tiger',\n",
       " u'tiger',\n",
       " u'lion',\n",
       " u'tiger',\n",
       " u'lion',\n",
       " u'tiger',\n",
       " u'lion',\n",
       " u'tiger',\n",
       " u'lion',\n",
       " u'tiger',\n",
       " u'lion',\n",
       " u'tiger',\n",
       " u'lion',\n",
       " u'lion',\n",
       " u'lion',\n",
       " u'tiger',\n",
       " u'lion',\n",
       " u'tiger',\n",
       " u'lion',\n",
       " u'lion',\n",
       " u'lion',\n",
       " u'tiger',\n",
       " u'lion',\n",
       " u'lion',\n",
       " u'lion',\n",
       " u'tiger',\n",
       " u'tiger',\n",
       " u'lion',\n",
       " u'tiger',\n",
       " u'tiger',\n",
       " u'lion',\n",
       " u'tiger',\n",
       " u'lion',\n",
       " u'tiger']"
      ]
     },
     "execution_count": 9,
     "metadata": {},
     "output_type": "execute_result"
    }
   ],
   "source": [
    "pred"
   ]
  },
  {
   "cell_type": "code",
   "execution_count": 10,
   "metadata": {},
   "outputs": [],
   "source": [
    "accuracy = np.mean([pred[i] == classif[i] for i in range(len(pred))])"
   ]
  },
  {
   "cell_type": "code",
   "execution_count": 12,
   "metadata": {},
   "outputs": [
    {
     "data": {
      "text/plain": [
       "[True,\n",
       " True,\n",
       " True,\n",
       " True,\n",
       " True,\n",
       " True,\n",
       " True,\n",
       " False,\n",
       " True,\n",
       " True,\n",
       " True,\n",
       " False,\n",
       " True,\n",
       " True,\n",
       " False,\n",
       " True,\n",
       " True,\n",
       " True,\n",
       " True,\n",
       " True,\n",
       " True,\n",
       " True,\n",
       " False,\n",
       " False,\n",
       " False,\n",
       " True,\n",
       " False,\n",
       " False,\n",
       " False,\n",
       " False,\n",
       " True,\n",
       " False,\n",
       " False,\n",
       " False,\n",
       " False,\n",
       " False,\n",
       " False,\n",
       " False,\n",
       " False,\n",
       " False,\n",
       " False,\n",
       " False,\n",
       " True,\n",
       " True,\n",
       " False,\n",
       " False,\n",
       " False,\n",
       " False,\n",
       " True,\n",
       " True,\n",
       " False,\n",
       " True,\n",
       " True,\n",
       " True,\n",
       " False,\n",
       " True,\n",
       " False,\n",
       " False,\n",
       " True,\n",
       " False,\n",
       " False,\n",
       " False,\n",
       " False]"
      ]
     },
     "execution_count": 12,
     "metadata": {},
     "output_type": "execute_result"
    }
   ],
   "source": [
    "[pred[i] == classif[i] for i in range(len(pred))]"
   ]
  },
  {
   "cell_type": "code",
   "execution_count": null,
   "metadata": {},
   "outputs": [],
   "source": []
  }
 ],
 "metadata": {
  "associatedRecipe": "compute_rtyui",
  "creator": "admin",
  "customFields": {},
  "kernelspec": {
   "display_name": "Python 2",
   "language": "python",
   "name": "python2"
  },
  "language_info": {
   "codemirror_mode": {
    "name": "ipython",
    "version": 2
   },
   "file_extension": ".py",
   "mimetype": "text/x-python",
   "name": "python",
   "nbconvert_exporter": "python",
   "pygments_lexer": "ipython2",
   "version": "2.7.5"
  },
  "tags": [
   "recipe-editor"
  ]
 },
 "nbformat": 4,
 "nbformat_minor": 1
}
